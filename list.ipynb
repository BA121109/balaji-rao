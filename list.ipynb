{
  "nbformat": 4,
  "nbformat_minor": 0,
  "metadata": {
    "colab": {
      "name": "list",
      "provenance": [],
      "collapsed_sections": [],
      "authorship_tag": "ABX9TyNqwAwTGaheY4fno/vJ6Iz0",
      "include_colab_link": true
    },
    "kernelspec": {
      "name": "python3",
      "display_name": "Python 3"
    },
    "language_info": {
      "name": "python"
    }
  },
  "cells": [
    {
      "cell_type": "markdown",
      "metadata": {
        "id": "view-in-github",
        "colab_type": "text"
      },
      "source": [
        "<a href=\"https://colab.research.google.com/github/BA121109/balaji-rao/blob/main/list.ipynb\" target=\"_parent\"><img src=\"https://colab.research.google.com/assets/colab-badge.svg\" alt=\"Open In Colab\"/></a>"
      ]
    },
    {
      "cell_type": "code",
      "execution_count": 27,
      "metadata": {
        "colab": {
          "base_uri": "https://localhost:8080/"
        },
        "id": "64GYR5RwTpI1",
        "outputId": "fa39bf2e-0f1d-4cc8-d96c-1571d91ed801"
      },
      "outputs": [
        {
          "output_type": "stream",
          "name": "stdout",
          "text": [
            "['ogrima', 'balaji', 'nitish', 'poojitha', 'ganesh']\n",
            "<class 'list'>\n",
            "['ogrima', 'balaji', 'nitish', 'poojitha', 'ganesh', 'Buntty']\n",
            "Buntty\n",
            "['ogrima', 'balaji', 'nitish', 'poojitha', 'ganesh']\n",
            "['ogrima', 'balaji', 'poojitha', 'ganesh']\n",
            "['ogrima', 'balaji', 'ganesh']\n"
          ]
        }
      ],
      "source": [
        "#inserting elements into list \n",
        "students=[\"ogrima\",\"balaji\",\"nitish\",\"poojitha\",\"ganesh\"]\n",
        "print(students)\n",
        "print(type(students))\n",
        "students.append(\"Buntty\")\n",
        "print(students)\n",
        "print(students[-1])\n",
        "students.pop()\n",
        "print(students)\n",
        "students.remove(\"nitish\")\n",
        "print(students)\n",
        "del students[2]\n",
        "print(students)\n",
        "\n",
        "\n",
        "\n",
        "\n",
        "\n",
        "\n"
      ]
    },
    {
      "cell_type": "code",
      "source": [
        "students=[\"OGRIMA\",\"BALAJI\",\"NITISH\",\"POOJITHA\",\"GANESH\",\"ADITHI\"]\n",
        "print(students[0:2])\n",
        "students.insert(2,\"RAMCHRAN\")\n",
        "print(students)\n",
        "\n"
      ],
      "metadata": {
        "colab": {
          "base_uri": "https://localhost:8080/"
        },
        "id": "B2FSl4zrcJzR",
        "outputId": "99668d99-a011-4158-da65-59c3d58d2dc5"
      },
      "execution_count": 25,
      "outputs": [
        {
          "output_type": "stream",
          "name": "stdout",
          "text": [
            "['OGRIMA', 'BALAJI']\n",
            "['OGRIMA', 'BALAJI', 'RAMCHRAN', 'NITISH', 'POOJITHA', 'GANESH', 'ADITHI']\n"
          ]
        }
      ]
    }
  ]
}